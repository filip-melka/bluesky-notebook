{
 "cells": [
  {
   "cell_type": "markdown",
   "id": "a6ac52a3-d923-47b6-901f-0211ef945ecd",
   "metadata": {},
   "source": [
    "# Bluesky API 🦋"
   ]
  },
  {
   "cell_type": "markdown",
   "id": "b3cd5c48-9a7e-4120-a366-2a7473f4ca9b",
   "metadata": {},
   "source": [
    "## Bluesky Credentials 🔐\n",
    "1. Create a `config.json` file in the current folder.\n",
    "2. Paste in your Bluesky credentials.\n",
    "\n",
    "```json\n",
    "{\n",
    "    \"email\": \"...\",\n",
    "    \"password\": \"...\"\n",
    "}\n",
    "```\n",
    "\n",
    "Retrieve your credentials from the `config.json` file:"
   ]
  },
  {
   "cell_type": "code",
   "execution_count": null,
   "id": "d9054722-346d-4aba-9cdb-abfb02b1bf8b",
   "metadata": {},
   "outputs": [],
   "source": [
    "import json\n",
    "\n",
    "with open('config.json') as config_file:\n",
    "    config = json.load(config_file)\n",
    "\n",
    "email = config['email']\n",
    "password = config['password']"
   ]
  },
  {
   "cell_type": "markdown",
   "id": "48ddc6b4-b4eb-4af9-b445-ee699a33c0ce",
   "metadata": {},
   "source": [
    "## Authentication 🪪\n",
    "Import the `Client` class from the `atproto` library."
   ]
  },
  {
   "cell_type": "code",
   "execution_count": null,
   "id": "79ba6a35-5a6f-4d7d-89f1-94af9ad411e1",
   "metadata": {},
   "outputs": [],
   "source": [
    "from atproto import Client"
   ]
  },
  {
   "cell_type": "markdown",
   "id": "78dfe323-cff7-4099-aea2-b398fd3e525e",
   "metadata": {},
   "source": [
    "Instantiate the `Client` object."
   ]
  },
  {
   "cell_type": "code",
   "execution_count": null,
   "id": "83778644-b4e5-4691-bd9b-5a1f57312070",
   "metadata": {},
   "outputs": [],
   "source": [
    "client = Client()"
   ]
  },
  {
   "cell_type": "markdown",
   "id": "20e6c242-6787-4f90-b143-3733158659e3",
   "metadata": {},
   "source": [
    "Use `login` method to authenticate using your **Bluesky account credentials**."
   ]
  },
  {
   "cell_type": "code",
   "execution_count": null,
   "id": "f9695287-3897-440c-81ba-06c6f9752e35",
   "metadata": {},
   "outputs": [],
   "source": [
    "client.login(email, password)"
   ]
  },
  {
   "cell_type": "markdown",
   "id": "eb5a290a-311b-4f24-a110-d46c0e8333fb",
   "metadata": {},
   "source": [
    "## Creating posts"
   ]
  },
  {
   "cell_type": "markdown",
   "id": "bdee601b-55b4-4cf3-8916-5583d72ff3ba",
   "metadata": {},
   "source": [
    "### A simple post ✍️"
   ]
  },
  {
   "cell_type": "markdown",
   "id": "31dc168d-0967-400d-bfc5-99c9c478c588",
   "metadata": {},
   "source": [
    "Use `send_post` method to send a new post to Bluesky."
   ]
  },
  {
   "cell_type": "code",
   "execution_count": null,
   "id": "01fa2e0b-2508-40fb-8523-41eb69c72b66",
   "metadata": {},
   "outputs": [],
   "source": [
    "post = client.send_post('Hello World! I posted this via the Python SDK!')"
   ]
  },
  {
   "cell_type": "markdown",
   "id": "1f50306c-4448-407a-bf08-b50078b589e8",
   "metadata": {},
   "source": [
    "### A post with a link 🔗\n",
    "Use TextBuilder to construct a post with mentions and links."
   ]
  },
  {
   "cell_type": "code",
   "execution_count": null,
   "id": "6916daeb-6fb0-4dab-beb9-0d9192a65ff6",
   "metadata": {},
   "outputs": [],
   "source": [
    "from atproto import TextBuilder"
   ]
  },
  {
   "cell_type": "code",
   "execution_count": null,
   "id": "06b67a1f-c23f-4d6f-ba80-53ee40e843f4",
   "metadata": {},
   "outputs": [],
   "source": [
    "tb = TextBuilder()\n",
    "tb.text('This is a ')\n",
    "tb.link('link', 'https://example.com')\n",
    "tb.text('!')"
   ]
  },
  {
   "cell_type": "code",
   "execution_count": null,
   "id": "142f4ee2-870b-49a2-937c-0a9538964d4d",
   "metadata": {},
   "outputs": [],
   "source": [
    "client.send_post(tb)"
   ]
  },
  {
   "cell_type": "markdown",
   "id": "58924c6e-3dd3-48f5-b26d-ec4f0ff73a60",
   "metadata": {},
   "source": [
    "### A post with an image 🖼️\n",
    "Place an image to the `img` folder and store its name in the `image_name` variable bellow:"
   ]
  },
  {
   "cell_type": "code",
   "execution_count": null,
   "id": "32a25f94-5b89-4c27-896d-ea391b06c83e",
   "metadata": {},
   "outputs": [],
   "source": [
    "image_name = 'example.jpg'"
   ]
  },
  {
   "cell_type": "markdown",
   "id": "d037f204-7ab7-4245-a52d-789b7930f4f9",
   "metadata": {},
   "source": [
    "Read the image using the `open` function with `rb` mode (**\"read binary\"**)."
   ]
  },
  {
   "cell_type": "code",
   "execution_count": null,
   "id": "3acc7c8c-755b-4c63-82ce-e4e54f4e9917",
   "metadata": {},
   "outputs": [],
   "source": [
    "with open(f'img/{image_name}', 'rb') as f:\n",
    "    img_data = f.read()"
   ]
  },
  {
   "cell_type": "markdown",
   "id": "7531a387-a557-49f0-8f73-0092740dbb77",
   "metadata": {},
   "source": [
    "Post the image with a text using the `send_image` function."
   ]
  },
  {
   "cell_type": "code",
   "execution_count": null,
   "id": "258429df-c65c-4e76-950e-0ebea5b47d77",
   "metadata": {},
   "outputs": [],
   "source": [
    "client.send_image(text='text', image=img_data, image_alt='My image')"
   ]
  }
 ],
 "metadata": {
  "kernelspec": {
   "display_name": "Python 3 (ipykernel)",
   "language": "python",
   "name": "python3"
  },
  "language_info": {
   "codemirror_mode": {
    "name": "ipython",
    "version": 3
   },
   "file_extension": ".py",
   "mimetype": "text/x-python",
   "name": "python",
   "nbconvert_exporter": "python",
   "pygments_lexer": "ipython3",
   "version": "3.12.3"
  }
 },
 "nbformat": 4,
 "nbformat_minor": 5
}
